{
 "cells": [
  {
   "cell_type": "markdown",
   "metadata": {},
   "source": [
    "# Przekształcenia punktowe"
   ]
  },
  {
   "cell_type": "markdown",
   "metadata": {},
   "source": [
    "W trakcie niniejszego ćwiczenia zapoznamy się z podstawowymi operacjami punktowymi (bezkontekstowymi) przeprowadzanymi na obrazach cyfrowych:\n",
    "- typu LUT (operacja jednoargumentowa),\n",
    "- arytmetycznymi (operacje dwuargumentowe): dodawanie, odejmowanie, mnożenie, dzielenie,\n",
    "- logicznymi (operacje jedno i dwuargumentowe): AND, OR, XOR, NOT."
   ]
  },
  {
   "cell_type": "markdown",
   "metadata": {},
   "source": [
    "Na początku zaimportuj potrzebne biblioteki."
   ]
  },
  {
   "cell_type": "code",
   "execution_count": null,
   "metadata": {},
   "outputs": [],
   "source": [
    "import cv2\n",
    "import numpy as np\n",
    "import matplotlib.pyplot as plt"
   ]
  },
  {
   "cell_type": "markdown",
   "metadata": {},
   "source": [
    "## Operacja LUT\n",
    "\n",
    "**Operacja LUT** polega na przekształcaniu wartości poszczególnych pikseli obrazu przy użyciu z góry przygotowanych tabel przekodowań (tabel korekcji).\n",
    "\n",
    "W przetwarzaniu obrazów najczęściej wykorzystuje się następujące funkcje:\n",
    "- typu kwadratowa, pierwiastek kwadratowy\n",
    "- typu logarytm, odwrócony logarytm\n",
    "- typu wykładnicza,\n",
    "- inne (np. piłokształtna)."
   ]
  },
  {
   "cell_type": "markdown",
   "metadata": {},
   "source": [
    "W tym zadaniu zostały dla Państwa przygotowane tablice przekodowania.\n",
    "Proszę pobrać je z githuba `https://raw.githubusercontent.com/vision-agh/poc_sw/master/02_Point/lut.py` (można użyć znanego polecenia !wget), a następnie zaimportować je poleceniem `import lut`.\n",
    "Od tego momentu można się do nich odwoływać w następujący sposób: `lut.log` itd."
   ]
  },
  {
   "cell_type": "code",
   "execution_count": null,
   "metadata": {},
   "outputs": [],
   "source": [
    "!wget https://raw.githubusercontent.com/vision-agh/poc_sw/master/02_Point/lut.py\n"
   ]
  },
  {
   "cell_type": "code",
   "execution_count": null,
   "metadata": {},
   "outputs": [],
   "source": [
    "import lut\n",
    "lut.log"
   ]
  },
  {
   "cell_type": "markdown",
   "metadata": {},
   "source": [
    "Wyświetl przykładowe przekodowanie wykorzystując funkcję `plt.plot(lut.kwadratowa)`."
   ]
  },
  {
   "cell_type": "code",
   "execution_count": null,
   "metadata": {},
   "outputs": [],
   "source": [
    "plt.plot(lut.kwadratowa)\n",
    "plt.show()"
   ]
  },
  {
   "cell_type": "markdown",
   "metadata": {},
   "source": [
    "Wybierz jeden z obrazów: _lena.bmp_ lub _jet.bmp_ (w razie potrzeby pobierz go z githuba):\n",
    "- https://raw.githubusercontent.com/vision-agh/poc_sw/master/02_Point/lena.bmp\n",
    "- https://raw.githubusercontent.com/vision-agh/poc_sw/master/02_Point/jet.bmp\n",
    "\n",
    "Wczytaj go i wyświetl."
   ]
  },
  {
   "cell_type": "code",
   "execution_count": null,
   "metadata": {},
   "outputs": [],
   "source": [
    "!wget https://raw.githubusercontent.com/vision-agh/poc_sw/master/02_Point/lena.bmp\n",
    "!wget https://raw.githubusercontent.com/vision-agh/poc_sw/master/02_Point/jet.bmp"
   ]
  },
  {
   "cell_type": "code",
   "execution_count": null,
   "metadata": {},
   "outputs": [],
   "source": [
    "Jet = cv2.imread('jet.bmp')\n",
    "plt.xticks([]), plt.yticks([])\n",
    "plt.imshow(Jet)\n",
    "plt.show()\n",
    "\n",
    "Lena = cv2.imread('lena.bmp')\n",
    "plt.xticks([]), plt.yticks([])\n",
    "plt.imshow(Lena)\n",
    "plt.show()\n"
   ]
  },
  {
   "cell_type": "markdown",
   "metadata": {},
   "source": [
    "Na wybranym obrazie wykonaj operację LUT.\n",
    "Służy do tego funkcja `cv2.LUT` przyjmująca dwa argumenty: obraz oraz tablicę przekodowania.\n",
    "Wybierz dowolną z zaimportowanych tablic i wyświetl wynikowy obraz."
   ]
  },
  {
   "cell_type": "code",
   "execution_count": null,
   "metadata": {},
   "outputs": [],
   "source": [
    "I = cv2.LUT(Jet, lut.log)\n",
    "plt.xticks([]), plt.yticks([])\n",
    "plt.imshow(I)\n",
    "plt.show()\n",
    "\n",
    "I = cv2.LUT(Lena, lut.log)\n",
    "plt.xticks([]), plt.yticks([])\n",
    "plt.imshow(I)\n",
    "plt.show()"
   ]
  },
  {
   "cell_type": "markdown",
   "metadata": {},
   "source": [
    "Aby lepiej zobaczyć w jaki sposób działają różne przekodowania LUT, skonstruujemy funkcję, która jako argumenty pobierać będzie obrazek oryginalny oraz tablicę przekodowania, a następnie na wspólnym rysunku będzie wyświetlać: funkcję, obraz wejściowy oraz wynik przekodowania.\n",
    "\n",
    "Przypomnienie składni tworzenia funkcji w pythonie:\n",
    "```{python}\n",
    "  def nazwa_funkcji(para, metry):\n",
    "  \t# cialo funkcji\n",
    "```"
   ]
  },
  {
   "cell_type": "markdown",
   "metadata": {},
   "source": [
    "  - Stwórz nową funkcję i nazwij ją LUT.\n",
    "  - Funkcja powinna przyjmować dwa parametry: obraz oraz tablicę przekodowania.\n",
    "  - W ciele funkcji wykonaj przekodowanie LUT, podobnie jak wcześniej w przykładzie.\n",
    "  - Funkcja powinna wyświetlić wykres składający się z 3 umieszczonych obok siebie pól: wykres przekodowania, obraz oryginalny oraz obraz przekształcony.\n",
    "    Każdy z wykresów powinien być podpisany.\n",
    "    _(W razie problemów można przypomnieć sobie te zagadnienia z laboratorium wprowadzającego)_\n",
    "  - Jeśli wykres przekodowania jest zbyt rozciągnięty, można go wyrównać, np. `ax2.set_aspect('equal')`."
   ]
  },
  {
   "cell_type": "code",
   "execution_count": null,
   "metadata": {},
   "outputs": [],
   "source": [
    "def LUT2(obraz, tablica):\n",
    "    f, (ax1, ax2, ax3) = plt.subplots(1,3)\n",
    "    plt.xticks([]), plt.yticks([])\n",
    "    ax1.plot(tablica)\n",
    "    ax1.set_title('wykres przekodowania')\n",
    "    ax2.imshow(obraz)\n",
    "    ax2.set_title('obraz oryginalny')\n",
    "    obraz2 = cv2.LUT(obraz, tablica)\n",
    "    ax3.imshow(obraz2)\n",
    "    ax3.set_title('obraz przekształcony')\n",
    "    \n",
    "\n",
    "\n",
    "print(LUT2(Jet, lut.log))"
   ]
  },
  {
   "cell_type": "code",
   "execution_count": null,
   "metadata": {},
   "outputs": [],
   "source": [
    "def LUT(obraz, tablica):\n",
    "    f, (ax1, ax2, ax3) = plt.subplots(1,3)\n",
    "    ax1.plot(tablica)\n",
    "    ax1.set_title('wykres przekodowania')\n",
    "    \n",
    "    ax2.imshow(obraz)\n",
    "    ax2.set_xticks([])\n",
    "    ax2.set_yticks([])\n",
    "    ax2.set_title('obraz oryginalny')\n",
    "\n",
    "    obraz2 = cv2.LUT(obraz, tablica)\n",
    "    ax3.imshow(obraz2)\n",
    "    ax3.set_xticks([])\n",
    "    ax3.set_yticks([])\n",
    "    ax3.set_title('obraz przekształcony')"
   ]
  },
  {
   "cell_type": "markdown",
   "metadata": {},
   "source": [
    "Wywołaj przygotowaną funkcję dla każdego z przekształceń.\n",
    "W wyniku powinno powstać 7 wykresów."
   ]
  },
  {
   "cell_type": "code",
   "execution_count": null,
   "metadata": {},
   "outputs": [],
   "source": [
    "LUT(Lena,lut.odwlog)\n",
    "LUT(Lena,lut.kwadratowa)\n",
    "LUT(Jet,lut.odwrotna)\n",
    "LUT(Lena,lut.pierwiastkowa)\n",
    "LUT(Jet,lut.pila)\n",
    "LUT(Lena,lut.log)\n",
    "LUT(Jet,lut.wykladnicza)"
   ]
  },
  {
   "cell_type": "markdown",
   "metadata": {},
   "source": [
    "## Operacja arytmetyczne\n",
    "\n",
    "### Dodawanie\n",
    "\n",
    "Wczytaj dwa obrazy _lena.bmp_ i _jet.bmp_ i wyświetl je."
   ]
  },
  {
   "cell_type": "code",
   "execution_count": null,
   "metadata": {},
   "outputs": [],
   "source": [
    "Jet = cv2.imread('jet.bmp')\n",
    "plt.xticks([]), plt.yticks([])\n",
    "plt.imshow(Jet)\n",
    "plt.show()\n",
    "\n",
    "Lena = cv2.imread('lena.bmp')\n",
    "plt.xticks([]), plt.yticks([])\n",
    "plt.imshow(Lena)\n",
    "plt.show()"
   ]
  },
  {
   "cell_type": "markdown",
   "metadata": {},
   "source": [
    "Dodaj obrazy _lena_ i _jet_, wykorzystaj funkcję `cv2.add`.\n",
    "Uzyskany wynik wyświetl."
   ]
  },
  {
   "cell_type": "code",
   "execution_count": null,
   "metadata": {},
   "outputs": [],
   "source": [
    "sum = cv2.add(Jet,Lena)\n",
    "plt.xticks([]), plt.yticks([])\n",
    "plt.imshow(sum)\n",
    "plt.show()"
   ]
  },
  {
   "cell_type": "markdown",
   "metadata": {},
   "source": [
    "Czy wynik sumowania jest satysfakcjonujący?\n",
    "Co może niekorzystnie wpływać na rezultat operacji?\n",
    "Spróbuj wykonać dodawanie ponownie wykorzystując typ uint16 (`jet.astype('uint16')`).\n",
    "Wynikowy obraz należy przeskalować do zakresu 0-255, zamienić na typ uint8 i wyświetlić. _\n",
    "Uwaga: operacja ta jest użyteczna w przypadku, gdy dane do wyświetlenia wykraczają poza zakres 0-255, w przeciwnym przypadku jej wykorzystanie może zniekształcić wyniki._"
   ]
  },
  {
   "cell_type": "code",
   "execution_count": null,
   "metadata": {},
   "outputs": [],
   "source": [
    "Jet_16 = Jet.astype('uint16')\n",
    "Lena_16 = Lena.astype('uint16')\n",
    "addition_16 = cv2.add(Jet_16,Lena_16)\n",
    "\n",
    "sum_16 = cv2.normalize(addition_16,addition_16,0,255,cv2.NORM_MINMAX)\n",
    "sum_8 = sum_16.astype('uint8')\n",
    "plt.imshow(sum_8)\n",
    "plt.xticks([]), plt.yticks([])\n",
    "plt.show()"
   ]
  },
  {
   "cell_type": "markdown",
   "metadata": {},
   "source": [
    "### Kombinacja liniowa\n",
    "\n",
    "Do wykonywania operacji kombinacji liniowej służy funkcja `cv2.addWeighted`.\n",
    "Zapoznaj się z dokumentacją tej funkcji i przetestuj kilka kombinacji liniowych obrazów _lena_ i _jet_.\n",
    "Wyświetl wynik dowolnej z nich."
   ]
  },
  {
   "cell_type": "code",
   "execution_count": null,
   "metadata": {},
   "outputs": [],
   "source": [
    "Weight = cv2.addWeighted(Jet, 0.7, Lena, 0.9, 0.0) # wartosci gamma i beta dfeinują jak wyraźny jest dany obraz\n",
    "plt.imshow(Weight)\n",
    "plt.xticks([]), plt.yticks([])\n",
    "plt.show()\n"
   ]
  },
  {
   "cell_type": "markdown",
   "metadata": {},
   "source": [
    "### Odejmowanie\n",
    "\n",
    "Wykorzystując funkcję `cv2.subtract` odejmij obrazy _lena_ i _jet_."
   ]
  },
  {
   "cell_type": "code",
   "execution_count": null,
   "metadata": {},
   "outputs": [],
   "source": [
    "diff = cv2.subtract(Jet, Lena)\n",
    "plt.imshow(diff)\n",
    "plt.xticks([]), plt.yticks([])\n",
    "plt.show()\n",
    "\n",
    "diff = cv2.subtract(Lena, Jet)\n",
    "plt.imshow(diff)\n",
    "plt.xticks([]), plt.yticks([])\n",
    "plt.show()"
   ]
  },
  {
   "cell_type": "markdown",
   "metadata": {},
   "source": [
    "Czy wynik odejmowania jest satysfakcjonujący?\n",
    "Co może niekorzystnie wpływać na rezultat operacji?\n",
    "Często zamiast zwykłego odejmowania wykorzystuje się operację wartość bezwzględna z różnicy (pozwala to między innymi uniknąć pokazanych powyżej problemów).\n",
    "Zamień typ obrazów _lena_ i _jet_ z uint8 na **int16**, odejmij je od siebie, a następnie wykorzystując funkcję `np.abs` wykonaj operację wartość bezwzględna z różnicy.\n",
    "Wyświetl ten obraz.\n",
    "Zastanów się, dlaczego ta zmiana poprawia wynik odejmowania?"
   ]
  },
  {
   "cell_type": "code",
   "execution_count": null,
   "metadata": {},
   "outputs": [],
   "source": [
    "Lena_int16 = Lena.astype('int16')\n",
    "Jet_int16 = Jet.astype('int16')\n",
    "\n",
    "diff = cv2.subtract(Lena_int16, Jet_int16)\n",
    "diff_abs = np.abs(diff)\n",
    "plt.imshow(diff_abs)\n",
    "plt.xticks([]), plt.yticks([])\n",
    "plt.show()"
   ]
  },
  {
   "cell_type": "markdown",
   "metadata": {},
   "source": [
    "### Mnożenie\n",
    "\n",
    "Mnożenie dwóch obrazów pozwala wykonać funkcja `cv2.multiply`.\n",
    "Wykonaj mnożenie obrazów _lena_ i _jet_.\n",
    "Czy wynik takiej operacji zawiera jakąś istotną informację?\n",
    "Dlaczego?"
   ]
  },
  {
   "cell_type": "code",
   "execution_count": null,
   "metadata": {},
   "outputs": [],
   "source": [
    "mul = cv2.multiply(Lena, Jet)\n",
    "plt.imshow(mul)\n",
    "plt.xticks([]), plt.yticks([])\n",
    "plt.show()"
   ]
  },
  {
   "cell_type": "markdown",
   "metadata": {},
   "source": [
    "Mnożenie częściej wykorzystuje się jako:\n",
    "  + mnożenie przez stałą $-$ co powoduje ogólne rozjaśnienie albo ściemnienie obrazu,\n",
    "  + mnożenie przez maskę $-$ czyli obraz binarny."
   ]
  },
  {
   "cell_type": "markdown",
   "metadata": {},
   "source": [
    "Wczytaj maskę _kolo.bmp_ (https://raw.githubusercontent.com/vision-agh/poc_sw/master/02_Point/kolo.bmp).\n",
    "Przemnóż wybrany obraz przez maskę i wyświetl wynik.\n",
    "Mnożenie przez maskę można zrealizować za pomocą funkcji `cv2.multiply`, ale maskę należy należy najpierw przekształcić z zakresu 0-255 do 0-1, na przykład `(maska).astype('bool').astype('uint8')`."
   ]
  },
  {
   "cell_type": "code",
   "execution_count": null,
   "metadata": {},
   "outputs": [],
   "source": [
    "!wget https://raw.githubusercontent.com/vision-agh/poc_sw/master/02_Point/kolo.bmp"
   ]
  },
  {
   "cell_type": "code",
   "execution_count": null,
   "metadata": {},
   "outputs": [],
   "source": [
    "maska = cv2.imread('kolo.bmp')\n",
    "maska_binarna = maska.astype('bool').astype('uint8')\n",
    "\n",
    "mul = cv2.multiply(maska_binarna, Lena)\n",
    "plt.imshow(mul)\n",
    "plt.xticks([]), plt.yticks([])\n",
    "plt.show()"
   ]
  },
  {
   "cell_type": "markdown",
   "metadata": {},
   "source": [
    "### Negatyw\n",
    "\n",
    "Negatyw obrazu uzyskuje się za pomocą funkcji `cv2.bitwise_not(img)`\n",
    "Negatyw obrazu można również uzyskać wykorzystując przekodowanie LUT.\n",
    "Można w tym celu posłużyć się przygotowaną wcześniej tablicą `lut.odwrotna`.\n",
    "Przetestuj działanie tych funkcji i wykonaj negatyw obrazu _lena_ dowolnym sposobem."
   ]
  },
  {
   "cell_type": "code",
   "execution_count": null,
   "metadata": {},
   "outputs": [],
   "source": [
    "negative = cv2.bitwise_not(Lena)\n",
    "plt.imshow(negative)\n",
    "plt.xticks([]), plt.yticks([])\n",
    "plt.show()\n",
    "\n",
    "LUT(Lena,lut.odwrotna)\n"
   ]
  },
  {
   "cell_type": "markdown",
   "metadata": {},
   "source": [
    "## Operacje logiczne\n",
    "\n",
    "Na poszczególnych punktach obrazu (najczęściej binarnego $-$ czyli składającego się z dwóch kolorów: czarnego i białego) można wykonywać operacje logiczne: NOT, AND, OR, XOR itp.\n",
    "Wczytaj dwa obrazy: _kolo.bmp_ i _kwadrat.bmp_ (https://raw.githubusercontent.com/vision-agh/poc_sw/master/02_Point/kwadrat.bmp), następnie wyświetl je."
   ]
  },
  {
   "cell_type": "code",
   "execution_count": null,
   "metadata": {},
   "outputs": [],
   "source": [
    "!wget https://raw.githubusercontent.com/vision-agh/poc_sw/master/02_Point/kwadrat.bmp"
   ]
  },
  {
   "cell_type": "code",
   "execution_count": null,
   "metadata": {},
   "outputs": [],
   "source": [
    "Kwadrat = cv2.imread('kwadrat.bmp')\n",
    "plt.imshow(Kwadrat)\n",
    "plt.xticks([]), plt.yticks([])\n",
    "plt.show()\n",
    "\n",
    "Kolo = cv2.imread('kolo.bmp')\n",
    "plt.imshow(Kolo)\n",
    "plt.xticks([]), plt.yticks([])\n",
    "plt.show()"
   ]
  },
  {
   "cell_type": "markdown",
   "metadata": {},
   "source": [
    "Na wczytanych obrazach wykonaj wybrane operacje logiczne: NOT (operator `~`), AND (`&`), OR (`|`), XOR (`^`).\n",
    "Operator `~` jest jednoargumentowy, wszystkie pozostałe są dwuargumentowe.\n",
    "Alternatywnym sposobem jest wykorzystanie funkcji z biblioteki opencv: `cv2.bitwise_not`, `cv2.bitwise_and`, `cv2.bitwise_or`, `cv2.bitwise_xor`.\n",
    "Wyświetl rezultaty."
   ]
  },
  {
   "cell_type": "code",
   "execution_count": null,
   "metadata": {
    "pycharm": {
     "name": "#%%\n"
    }
   },
   "outputs": [],
   "source": [
    "negative = cv2.bitwise_not(Kolo)\n",
    "plt.imshow(negative)\n",
    "plt.xticks([]), plt.yticks([])\n",
    "plt.show()\n",
    "\n",
    "negative = cv2.bitwise_not(Kwadrat)\n",
    "plt.imshow(negative)\n",
    "plt.xticks([]), plt.yticks([])\n",
    "plt.show()\n",
    "\n",
    "AND = cv2.bitwise_and(Kolo, Kwadrat)\n",
    "plt.imshow(AND)\n",
    "plt.xticks([]), plt.yticks([])\n",
    "plt.show()\n",
    "\n",
    "OR = cv2.bitwise_or(Kolo, Kwadrat)\n",
    "plt.imshow(OR)\n",
    "plt.xticks([]), plt.yticks([])\n",
    "plt.show()\n",
    "OR = Kolo | Kwadrat\n",
    "plt.imshow(OR)\n",
    "plt.xticks([]), plt.yticks([])\n",
    "plt.show()\n",
    "\n",
    "XOR = cv2.bitwise_xor(Kolo, Kwadrat)\n",
    "plt.imshow(XOR)\n",
    "plt.xticks([]), plt.yticks([])\n",
    "plt.show()\n",
    "XOR = Kolo ^ Kwadrat\n",
    "plt.imshow(XOR)\n",
    "plt.xticks([]), plt.yticks([])\n",
    "plt.show()"
   ]
  }
 ],
 "metadata": {
  "kernelspec": {
   "display_name": "Python 3",
   "language": "python",
   "name": "python3"
  },
  "language_info": {
   "codemirror_mode": {
    "name": "ipython",
    "version": 3
   },
   "file_extension": ".py",
   "mimetype": "text/x-python",
   "name": "python",
   "nbconvert_exporter": "python",
   "pygments_lexer": "ipython3",
   "version": "3.9.10"
  }
 },
 "nbformat": 4,
 "nbformat_minor": 4
}
