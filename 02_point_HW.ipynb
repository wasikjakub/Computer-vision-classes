{
 "cells": [
  {
   "cell_type": "markdown",
   "metadata": {
    "collapsed": false
   },
   "source": [
    "# Zadanie domowe\n",
    "\n",
    "W przypadku obrazów w odcieniach szarości pojedynczy piksel z zakresu [0; 255] reprezentowany jest jako 8-bitowa liczba bez znaku.\n",
    "Pewnym rozszerzeniem analizy sposobu reprezentacji obrazu może być następujący eksperyment.\n",
    "Załóżmy, że z każdego z 8 bitów możemy stworzyć pojedynczy obraz binarny (ang. _bit-plane slicing_).\n",
    "Dla obrazka _100zloty.jpg_ (https://raw.githubusercontent.com/vision-agh/poc_sw/master/02_Point/100zloty.jpg) stwórz 8 obrazów, z których każdy powinien zawierać jedną płaszczyznę bitową.\n",
    "Podpowiedź $-$ warto sprawdzić, jak realizuje się bitowe operacje logiczne.\n",
    "Zastosowanie takiej dekompozycji obrazu pozwala na analizę ,,ważności'' poszczególnych bitów.\n",
    "Jest to użyteczne w kwantyzacji, ale także w kompresji.\n",
    "\n",
    "W drugim etapie zadania proszę spróbować odtworzyć obraz oryginalny z mniejszej liczby obrazów binarnych.\n",
    "Warto zacząć od dwóch najbardziej znaczących bitów, a później dodawać kolejne.\n",
    "Należy utworzyć co najmniej trzy wersje zrekonstruowanych obrazów.\n",
    "Podpowiedź $-$ rekonstrukcja obrazu to mnożenie przez odpowiednią potęgę liczby 2 (przesunięcie bitowe) oraz dodawanie."
   ]
  },
  {
   "cell_type": "code",
   "execution_count": 3,
   "metadata": {},
   "outputs": [],
   "source": [
    "import cv2\n",
    "import numpy as np\n",
    "import matplotlib.pyplot as plt"
   ]
  },
  {
   "cell_type": "code",
   "execution_count": 2,
   "metadata": {},
   "outputs": [
    {
     "name": "stderr",
     "output_type": "stream",
     "text": [
      "--2022-03-09 16:33:44--  https://raw.githubusercontent.com/vision-agh/poc_sw/master/02_Point/100zloty.jpg\n",
      "Resolving raw.githubusercontent.com (raw.githubusercontent.com)... 2606:50c0:8003::154, 2606:50c0:8000::154, 2606:50c0:8002::154, ...\n",
      "Connecting to raw.githubusercontent.com (raw.githubusercontent.com)|2606:50c0:8003::154|:443... connected.\n",
      "HTTP request sent, awaiting response... 200 OK\n",
      "Length: 997750 (974K) [image/jpeg]\n",
      "Saving to: '100zloty.jpg.1'\n",
      "\n",
      "     0K .......... .......... .......... .......... ..........  5% 1,54M 1s\n",
      "    50K .......... .......... .......... .......... .......... 10% 2,48M 0s\n",
      "   100K .......... .......... .......... .......... .......... 15% 4,06M 0s\n",
      "   150K .......... .......... .......... .......... .......... 20% 3,98M 0s\n",
      "   200K .......... .......... .......... .......... .......... 25% 3,38M 0s\n",
      "   250K .......... .......... .......... .......... .......... 30% 6,02M 0s\n",
      "   300K .......... .......... .......... .......... .......... 35% 4,63M 0s\n",
      "   350K .......... .......... .......... .......... .......... 41% 4,15M 0s\n",
      "   400K .......... .......... .......... .......... .......... 46% 31,1M 0s\n",
      "   450K .......... .......... .......... .......... .......... 51% 1,41M 0s\n",
      "   500K .......... .......... .......... .......... .......... 56% 16,2M 0s\n",
      "   550K .......... .......... .......... .......... .......... 61% 5,45M 0s\n",
      "   600K .......... .......... .......... .......... .......... 66% 9,79M 0s\n",
      "   650K .......... .......... .......... .......... .......... 71% 15,1M 0s\n",
      "   700K .......... .......... .......... .......... .......... 76% 7,18M 0s\n",
      "   750K .......... .......... .......... .......... .......... 82% 5,26M 0s\n",
      "   800K .......... .......... .......... .......... .......... 87% 13,2M 0s\n",
      "   850K .......... .......... .......... .......... .......... 92% 6,81M 0s\n",
      "   900K .......... .......... .......... .......... .......... 97% 14,8M 0s\n",
      "   950K .......... .......... ....                            100% 15,3M=0,2s\n",
      "\n",
      "2022-03-09 16:33:44 (4,56 MB/s) - '100zloty.jpg.1' saved [997750/997750]\n",
      "\n"
     ]
    }
   ],
   "source": [
    "!wget https://raw.githubusercontent.com/vision-agh/poc_sw/master/02_Point/100zloty.jpg"
   ]
  },
  {
   "cell_type": "code",
   "execution_count": 12,
   "metadata": {},
   "outputs": [
    {
     "ename": "IndentationError",
     "evalue": "expected an indented block (Temp/ipykernel_10176/2996639586.py, line 7)",
     "output_type": "error",
     "traceback": [
      "\u001b[1;36m  File \u001b[1;32m\"C:\\Users\\koobie\\AppData\\Local\\Temp/ipykernel_10176/2996639586.py\"\u001b[1;36m, line \u001b[1;32m7\u001b[0m\n\u001b[1;33m    for bit in [np.power(2, a) for a in range(8)]:\u001b[0m\n\u001b[1;37m                                                  ^\u001b[0m\n\u001b[1;31mIndentationError\u001b[0m\u001b[1;31m:\u001b[0m expected an indented block\n"
     ]
    }
   ],
   "source": [
    "banknot = cv2.imread('100zloty.jpg')\n",
    "banknot_szary = cv2.cvtColor(banknot, cv2.COLOR_RGB2GRAY)\n",
    "plt.imshow(banknot_szary)\n",
    "\n",
    "bity = []\n",
    "a = 1\n",
    "for bit in [np.power(2, a) for a in range(8)]:\n"
   ]
  }
 ],
 "metadata": {
  "kernelspec": {
   "display_name": "Python 3",
   "language": "python",
   "name": "python3"
  },
  "language_info": {
   "codemirror_mode": {
    "name": "ipython",
    "version": 3
   },
   "file_extension": ".py",
   "mimetype": "text/x-python",
   "name": "python",
   "nbconvert_exporter": "python",
   "pygments_lexer": "ipython3",
   "version": "3.9.10"
  }
 },
 "nbformat": 4,
 "nbformat_minor": 0
}
