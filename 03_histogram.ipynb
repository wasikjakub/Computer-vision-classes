{
 "cells": [
  {
   "cell_type": "markdown",
   "metadata": {
    "pycharm": {
     "name": "#%% md\n"
    }
   },
   "source": [
    "# Histogram obrazu. Wyrównywanie histogramu."
   ]
  },
  {
   "cell_type": "markdown",
   "metadata": {
    "collapsed": false,
    "pycharm": {
     "name": "#%% md\n"
    }
   },
   "source": [
    "## Cel ćwiczenia\n",
    "\n",
    "- Zapoznanie z pojęciem histogramu obrazu (w odcieniach szarości i kolorze).\n",
    "- Zapoznanie z metodami modyfikacji histogramu (rozciąganie, wyrównywanie, dopasowywanie)."
   ]
  },
  {
   "cell_type": "markdown",
   "metadata": {
    "collapsed": false,
    "pycharm": {
     "name": "#%% md\n"
    }
   },
   "source": [
    "## Histogram\n",
    "\n",
    "- Histogramem obrazu nazywamy wykres słupkowy zdefiniowany następującymi zależnościami:<br>\n",
    "\\begin{equation}\n",
    "h(i) = \\sum_{x=0}^{N-1} \\sum_{y=0}^{M-1} p(i,(x,y))\n",
    "\\end{equation} <br>\n",
    "gdzie:<br>\n",
    "\\begin{equation}\n",
    "p(i) =  \\left\\{\n",
    "  \\begin{array}{l l}\n",
    "    1 & \\quad \\text{gdy} f(x,y) = i\\\\\n",
    "    0 & \\quad \\text{gdy} f(x,y) \\ne i\n",
    "  \\end{array} \\right.\n",
    "\\end{equation}\n",
    "\n",
    "- Inaczej mówiąc, histogram zawiera informacje na temat tego ile pikseli o danym poziomie jasności występuje na obrazie (w przypadku obrazu w odcieniach szarości). Określa się to także rozkładem empirycznym cechy.\n",
    "\n",
    "- Często wykorzystuje się tzw. znormalizowaną postać histogramu  – wszystkie wartości $h(i)$ są dzielone przez liczbę pikseli na obrazie.\n",
    "Otrzymana w ten sposób wielkość to gęstość prawdopodobieństwa wystąpienia na obrazie pikseli o odcieniu $i$.\n",
    "\n",
    "- Histogram można zdefiniować również dla obrazów kolorowych.\n",
    "Otrzymujemy wtedy 3 histogramy – po jednym dla danej składowej: R,G,B (lub HSV, YCbCr, itp.) lub histogram trójwymiarowy.\n",
    "\n",
    "- Histogram jest bardzo użyteczny w przetwarzaniu i analizie obrazów.\n",
    "Wykorzystywany jest przy binaryzacji (szerzej na jednym z kolejnych laboratoriów) oraz do oceny jakości (dynamiki, kontrastu) obrazu.\n",
    "W idealnym przypadku wszystkie poziomy jasności w obrazie powinny być wykorzystane (i to najlepiej w miarę jednolicie)  – obrazowo mówiąc histogram powinien rozciągać się od 0  – 255 (obraz w skali szarości).\n",
    "\n",
    "- W przypadku gdy  wykorzystujemy jedynie fragment dostępnego zakresu (wąski histogram)  lub histogram nie jest jednolity (występują dominujące grupy pikseli) obraz ma dość słaby kontrast.\n",
    "Cechę tę można poprawić stosując tzw. rozciąganie albo wyrównywanie histogramu (ang. *histogram equalization*).</div>"
   ]
  },
  {
   "cell_type": "markdown",
   "metadata": {
    "collapsed": false,
    "pycharm": {
     "name": "#%% md\n"
    }
   },
   "source": [
    "## Histogram dla obrazów w odcieniach szarości\n",
    "\n",
    "1. Zaimportuj potrzebne biblioteki: *OpenCV*, *pyplot* z *matplotlib* i *numpy*.\n",
    "        import cv2\n",
    "        from matplotlib import pyplot as plt\n",
    "        import numpy as np\n",
    "2. Wczytaj obrazy *lenaX.bmp* w skali szarości. *X* jest numerem wczytywanego obrazu (1 - 4).\n",
    "        I = cv2.imread('lenaX.bmp', cv2.IMREAD_GRAYSCALE)\n",
    "3. Oblicz histogram wczytanego obrazu wykorzystując funkcję `cv2.calcHist`.\n",
    "    - Pierwszym argumentem jest obraz, dla którego obliczony zostanie histogram.\n",
    "    Należy go przekazać w nawiasie kwadratowym.\n",
    "    - Drugim argumentem jest numer kanału, dla którego ma zostać obliczony histogram.\n",
    "    Również powinien być przekazany w nawiasie kwadratowym.\n",
    "    - Trzeci argument oznacza maskę, czyli obszar, dla którego ma zostać wyznaczony histogram.\n",
    "    Aby obliczyć dla całego obrazu należy przekazać *None*.\n",
    "    - Czwartym argumentem jest rozmiar histogramu (liczba przedziałów).\n",
    "    Argument powinien być w nawiasie kwadratowym. Dla pełnej skali należy przekazać wartość *256*.\n",
    "    - Ostatnim argumentem jest zakres wartości. Dla obrazów typu *uint8* powinien on wynosić *[0, 256]*.\n",
    "    - Funkcja zwraca obliczony histogram.\n",
    "4. Wyświetl wczytane obrazy i ich histogramy w jednym oknie. Użyj `plt.subplot()` w celu stworzenia siatki wykresów.\n",
    "        figLena, axsLena = plt.subplots(2, 4)\n",
    "Rozmiar utworzonego okna można zmienić wykorzystując instrukcję (uwaga w calach -  1 cal to 2.54cm):\n",
    "        figLena.set_size_inches(20, 10)\n",
    "Przykładowe wyświetlenie obrazu:\n",
    "        axsLena[0, 0].imshow(I1, 'gray', vmin=0, vmax=256)\n",
    "        axsLena[0, 0].axis('off')\n",
    "Przykładowe wyświetlenie histogramu:\n",
    "        axsLena[1, 0].plot(H1)\n",
    "        axsLena[1, 0].grid()\n",
    "5. Przeanalizuj (dokładnie) związek histogramu z jasnością i ostrością obrazu (tu rozumianą jako subiektywne odczucie)."
   ]
  },
  {
   "cell_type": "code",
   "execution_count": null,
   "metadata": {
    "pycharm": {
     "name": "#%% Zadanie 1 - wyświetlanie\n"
    }
   },
   "outputs": [],
   "source": [
    "import cv2\n",
    "import os\n",
    "from matplotlib import pyplot as plt\n",
    "import numpy as np\n",
    "\n",
    "if not os.path.exists(\"lena1.bmp\") :\n",
    "    !wget https://raw.githubusercontent.com/vision-agh/poc_sw/master/03_Histogram/lena1.bmp --no-check-certificate\n",
    "\n",
    "if not os.path.exists(\"lena2.bmp\") :\n",
    "    !wget https://raw.githubusercontent.com/vision-agh/poc_sw/master/03_Histogram/lena2.bmp --no-check-certificate\n",
    "\n",
    "if not os.path.exists(\"lena3.bmp\") :\n",
    "    !wget https://raw.githubusercontent.com/vision-agh/poc_sw/master/03_Histogram/lena3.bmp --no-check-certificate\n",
    "\n",
    "if not os.path.exists(\"lena4.bmp\") :\n",
    "    !wget https://raw.githubusercontent.com/vision-agh/poc_sw/master/03_Histogram/lena4.bmp --no-check-certificate"
   ]
  },
  {
   "cell_type": "code",
   "execution_count": null,
   "metadata": {},
   "outputs": [],
   "source": [
    "I_1 = cv2.imread('lena1.bmp', cv2.IMREAD_GRAYSCALE)\n",
    "I_2 = cv2.imread('lena2.bmp', cv2.IMREAD_GRAYSCALE)\n",
    "I_3 = cv2.imread('lena3.bmp', cv2.IMREAD_GRAYSCALE)\n",
    "I_4 = cv2.imread('lena4.bmp', cv2.IMREAD_GRAYSCALE)\n",
    "\n",
    "H_1 = cv2.calcHist([I_1], [0], None, [256], [0, 256])\n",
    "H_2 = cv2.calcHist([I_2], [0], None, [256], [0, 256])\n",
    "H_3 = cv2.calcHist([I_3], [0], None, [256], [0, 256])\n",
    "H_4 = cv2.calcHist([I_4], [0], None, [256], [0, 256])\n",
    "\n",
    "figLena, axsLena = plt.subplots(2, 4)\n",
    "figLena.set_size_inches(20, 10)\n",
    "axsLena[0, 0].imshow(I_1, 'gray', vmin=0, vmax=256)\n",
    "axsLena[0, 0].axis('off')\n",
    "axsLena[1, 0].plot(H_1)\n",
    "axsLena[1, 0].grid()\n",
    "\n",
    "axsLena[0, 1].imshow(I_2, 'gray', vmin=0, vmax=256)\n",
    "axsLena[0, 1].axis('off')\n",
    "axsLena[1, 1].plot(H_2)\n",
    "axsLena[1, 1].grid()\n",
    "\n",
    "axsLena[0, 2].imshow(I_3, 'gray', vmin=0, vmax=256)\n",
    "axsLena[0, 2].axis('off')\n",
    "axsLena[1, 2].plot(H_3)\n",
    "axsLena[1, 2].grid()\n",
    "\n",
    "axsLena[0, 3].imshow(I_4, 'gray', vmin=0, vmax=256)\n",
    "axsLena[0, 3].axis('off')\n",
    "axsLena[1, 3].plot(H_4)\n",
    "axsLena[1, 3].grid()"
   ]
  },
  {
   "cell_type": "markdown",
   "metadata": {
    "collapsed": false,
    "pycharm": {
     "name": "#%% md\n"
    }
   },
   "source": [
    "## Rozciąganie histogramu\n",
    "\n",
    "Najprostszą metodą poprawienia jakości obrazu jest tzw. rozciągnięcie histogramu.\n",
    "Polega na przeskalowaniu wartości pikseli w obrazie tak, aby wykorzystać cały dostępny zakres [0-255] (oczywiście w przypadku obrazów w odcieniach szarości w reprezentacji 8-bitowej).\n",
    "\n",
    "1. Wczytaj obraz *hist1.bmp* w skali szarości.\n",
    "Oblicz i wyświetl histogram rozpatrywanego obrazu (na wspólnym rysunku z obrazem).\n",
    "Zwróć uwagę na ilość widocznych szczegółów.\n",
    "2. Rozciągnij histogram obrazu. W tym celu można wykorzystać funkcję `cv2.normalize`.\n",
    "    - Pierwszym argumentem funkcji jest obraz poddawany operacji.\n",
    "    - Drugim argumentem jest tablica do której zostanie wpisany wynik.\n",
    "    Należy ją najpierw zainicjalizować.\n",
    "    Najlepiej zrobić to funkcją `np.zeros`, której pierwszym argumentem jest rozmiar obrazu (`I.shape`), a drugim typ danych (`uint8`).\n",
    "    Można również przekazać `None`, a wynik przypisać do nowej zmiennej.\n",
    "    - Trzecim argumentem jest minimalna wartość po normalizacji.\n",
    "    - Czwartym argumentem jest wartość maksymalna po normalizacji.\n",
    "    - Ostatnim argumentem jest typ wykorzystanej normy (uogólnienie pojęcia długości wektora).\n",
    "    Należy wykorzystać normę `cv2.NORM_MINMAX`.\n",
    "3. Rezultat operacji wyświetl (obraz i jego histogram).\n",
    "4. Czy ilość \"widocznych\" szczegółów uległa zmianie?"
   ]
  },
  {
   "cell_type": "code",
   "execution_count": null,
   "metadata": {
    "collapsed": false,
    "pycharm": {
     "name": "#%% Zadanie 2 - rozciąganie\n"
    }
   },
   "outputs": [],
   "source": [
    "if not os.path.exists(\"hist1.bmp\") :\n",
    "    !wget https://raw.githubusercontent.com/vision-agh/poc_sw/master/03_Histogram/hist1.bmp --no-check-certificate\n",
    "\n",
    "if not os.path.exists(\"hist2.bmp\") :\n",
    "    !wget https://raw.githubusercontent.com/vision-agh/poc_sw/master/03_Histogram/hist2.bmp --no-check-certificate\n",
    "\n",
    "if not os.path.exists(\"hist3.bmp\") :\n",
    "    !wget https://raw.githubusercontent.com/vision-agh/poc_sw/master/03_Histogram/hist3.bmp --no-check-certificate\n",
    "\n",
    "if not os.path.exists(\"hist4.bmp\") :\n",
    "    !wget https://raw.githubusercontent.com/vision-agh/poc_sw/master/03_Histogram/hist4.bmp --no-check-certificate"
   ]
  },
  {
   "cell_type": "code",
   "execution_count": null,
   "metadata": {},
   "outputs": [],
   "source": [
    "I_1 = cv2.imread('hist1.bmp', cv2.IMREAD_GRAYSCALE)\n",
    "H_1 = cv2.calcHist([I_1], [0], None, [256], [0, 256])\n",
    "\n",
    "figHist, axsHist = plt.subplots(1, 2)\n",
    "\n",
    "axsHist[0].imshow(I_1, 'gray', vmin=0, vmax=256)\n",
    "axsHist[0].axis('off')\n",
    "axsHist[1].plot(H_1)\n",
    "axsHist[1].grid()\n",
    "\n",
    "tab = np.zeros(I_1.size, 'uint8')\n",
    "\n",
    "H_2 = cv2.normalize(I_1, tab, 0, 255, cv2.NORM_MINMAX)\n",
    "H_3 = cv2.calcHist([H_2], [0], None, [256], [0, 256])\n",
    "\n",
    "figHist_1, axsHist_1 = plt.subplots(1, 2)\n",
    "\n",
    "axsHist_1[0].imshow(H_2, 'gray', vmin=0, vmax=256)\n",
    "axsHist_1[0].axis('off')\n",
    "axsHist_1[1].plot(H_3)\n",
    "axsHist_1[1].grid()"
   ]
  },
  {
   "cell_type": "markdown",
   "metadata": {
    "collapsed": false,
    "pycharm": {
     "name": "#%% md\n"
    }
   },
   "source": [
    "## Wyrównywanie histogramu\n",
    "\n",
    "<div style=\"text-align: justify\">\n",
    "Bardziej zaawansowaną metodą jest tzw. wyrównywanie histogramu (ang. *histogram equalization – HE*).\n",
    "Idea jest następująca: z punktu widzenia lepszego wykorzystania dostępnych poziomów jasności pożądane jest rozciągnięcie \"szczytów\" histogramu, a~skompresowanie \"dolin\" tak, aby taka sama liczba pikseli reprezentowana była przez każdy z dostępnych poziomów jasności (a przynjamniej przybliżona).\n",
    "Warto zwrócić uwagę, że takie przekształcenie powoduje częściową utratę informacji o szczegółach w obszarach \"dolin\".\n",
    "Inaczej mówiąc, dążymy do sytuacji, aby histogram był względnie jednostajny.\n",
    "Operacją, która pozwala wykonać wyrównywanie histogramu, jest przekształcenie LUT z funkcją przejścia w postaci histogramu skumulowanego danego obrazu.</div><br>\n",
    "\n",
    "<div style=\"text-align: justify\">\n",
    "Histogram skumulowany to funkcja obliczona na podstawie histogramu.\n",
    "Jej pierwszy element to liczba pikseli o odcieniu $0$.\n",
    "Kolejne wartości to liczba pikseli o odcieniach od $0$ do $n$.</div>\n",
    "\n",
    "\\begin{equation}\n",
    "C(n) = \\sum_{i=0}^{n} h(i)\n",
    "\\end{equation}\n",
    "\n",
    "<div style=\"text-align: justify\">\n",
    "Jeżeli histogram jest w postaci znormalizowanej (gęstość rozkładu prawdopodobieństwa) to histogram skumulowany stanowi dystrybuantę rozkładu prawdopodobieństwa.</div><br>\n",
    "\n",
    "1. Wyznacz histogram skumulowany dla obrazu *hist1.bmp*.\n",
    "W tym celu wykorzystaj metodę `cumsum` dla histogramu wczytanego obrazu.\n",
    "Nie przyjmuje ona żadnych argumentów, a zwraca skumulowane wartości tablicy, dla której została użyta.\n",
    "Histogram należy wyliczyć dla **obrazka wejściowego**, a nie dla wyniku rozciągania.\n",
    "2. Histogram skumulowany wyświetl razem z histogramem zwykłym na jednym wykresie (nie obok siebie).\n",
    "Na potrzeby wyświetlenia przeskaluj histogram skumulowany tak, by miał taką samą wartość maksymalną jak zwykły histogram.\n",
    "W tym celu wykorzystaj metodę `max`.\n",
    "3. Wyświetlenie kilku linii na jednym wykresie może być zrealizowane w następujący sposób:\n",
    "        figHistCum, axsHistCum = plt.subplots()\n",
    "\n",
    "        axsHistCum.plot(HHist)\n",
    "        axsHistCum.plot(CHistNorm)\n",
    "        axsHistCum.grid()\n",
    "4. Teraz zaimplementuj klasyczny algorytm wyrównywania histogramu.\n",
    "Wykorzystać należy obliczony histogram skumulowany.\n",
    "Należy go przeskalować w taki sposób aby na jego podstawie zrealizować przekształcenie LUT, czyli do zakresu 0 - 255.\n",
    "\n",
    ">Uwaga. Opisany algorytm wyrównywania histogramu jest wersją uproszczoną.\n",
    ">W wersji pełnej należy podczas skalowania tablicy przekodowań LUT pominąć elementy równe *0*.\n",
    ">\n",
    ">W tym celu należy wykorzystać funkcje `np.ma.masked_equal` i `np.ma.filled`.\n",
    ">Pierwsza służy do ukrywania elementów tablicy, natomiast druga zamienia ukryte elementy na podaną wartość.\n",
    ">W tym przypadku elementem ukrywanym i wpisywaną wartością byłoby *0*.\n",
    "\n",
    "5. Na kolejnym rysunku wyświetl obrazek po przekształceniu, jego histogram oraz histogram skumulowany.\n",
    "Co szczególnego można powiedzieć o jego histogramie i histogramie skumulowanym?\n",
    "6. W bibliotece *OpenCV* dostępna jest funkcja wykonująca wyrównywanie histogramu `cv2.equalizeHist`.\n",
    "Jej argumentem jest obraz, którego histogram zostanie wyrównany. Zwraca natomiast obraz wynikowy.\n",
    "Na kolejnym rysunku wyświetl wynik funkcji, jego histogram oraz histogram skumulowany.\n",
    "7. W wykorzystywanej bibliotece zaimplementowana jest również metoda adaptacyjnego wyrównywania histogramu algorytmem CLAHE (ang. *Contrast Limited Adaptive Histogram Equalization*}.\n",
    "   Kilka słów wyjaśnienia.\n",
    "   Wadą poznanej metody HE jest jej \"globalność\" rozumiana jako nieuwzględnianie lokalnych właściwości obrazu.\n",
    "   Dlatego też powstała metoda adaptacyjnego wyrównywania histogramu (AHE).\n",
    "   Jest ona spotykana w dwóch wariantach:\n",
    "   - dla każdego piksela niezależnie, w pewnym jego otoczeniu, wyznaczany jest histogram i przeprowadzane wyrównywanie.\n",
    "     Jak nietrudno się domyślić rozwiązanie jest dość kosztowne obliczeniowo.\n",
    "   - obraz wejściowy dzielony jest na nienachodzące na siebie prostokątne okna.\n",
    "     W każdym z okien obliczany jest histogram i przeprowadzane jest wyrównywanie.\n",
    "     W celu eliminacji błędów na granicy okien, stosuje się interpolację.\n",
    "\n",
    "   Metoda AHE ma jednak tą wadę, że w obszarach jednorodnych wzmacnia szum.\n",
    "   Dlatego też zaproponowano rozwiązanie CLAHE, które zakłada ograniczenie kontrastu (CL).\n",
    "   W metodzie definiuje się maksymalną wartość danego przedziału histogramu (próg ograniczenia kontrastu).\n",
    "   Piksele, które przekraczają próg są następnie równomiernie rozdzielane pomiędzy poszczególne przedziały.\n",
    "   Bardziej szczegółowy opis obu metod dostępny jest na [Wikipedii](https://en.wikipedia.org/wiki/Adaptive_histogram_equalization).\n",
    "\n",
    "8.W celu użycia algorytmu należy wywołać funkcję `cv2.createCLAHE`.\n",
    "    - Pierwszym parametrem jest próg ograniczenia kontrastu.\n",
    "    - Drugi parametr definiuje na ile prostokątów zostanie podzielony obraz w rzęch i kolumnach.\n",
    "    - Zwracany jest zainicjalizowany *smart pointer* do klasy `cv::CLAHE`.<br>\n",
    "9. Aby wykonać wyrównywanie należy użyć metody `apply`.\n",
    "Jej argumentem jest obraz wejściowy. Zwracany jest obraz o zmodyfikowanym histogramie.<br>\n",
    "10. Przetestuj różne parametry algorytmu CLAHE.<br>\n",
    "11. W kolejnym etapie należy przetestować operacje (rozciąganie, wyrównywanie (HE) i adaptacyjne wyrównywanie CLAHE)  na histogramie dla obrazów rzeczywistych. *hist2.bmp*, *hist3.bmp*, *hist4.jpg*.\n",
    "W jednym oknie wyświetl: obraz oryginalny, rozciąganie, wyrównywanie HE oraz wyrównywanie CLAHE."
   ]
  },
  {
   "cell_type": "code",
   "execution_count": null,
   "metadata": {
    "collapsed": false,
    "pycharm": {
     "name": "#%% Zadanie 3 - histogram skumulowany\n"
    }
   },
   "outputs": [],
   "source": [
    "ChistNorm = H_1.cumsum()\n",
    "H_2 = cv2.normalize(ChistNorm, tab, 0, H_1.max(), cv2.NORM_MINMAX)\n",
    "\n",
    "figHistCum, axsHistCum = plt.subplots()\n",
    "\n",
    "axsHistCum.plot(H_1)\n",
    "axsHistCum.plot(H_2)\n",
    "axsHistCum.grid()"
   ]
  },
  {
   "cell_type": "code",
   "execution_count": null,
   "metadata": {
    "collapsed": false,
    "pycharm": {
     "name": "#%% Zadanie 3 - wyrównywanie\n"
    }
   },
   "outputs": [],
   "source": [
    "def hist_alig(image):\n",
    "    #obraz musi być juz wczytany za pomocą 'imread'\n",
    "    Hist_of_image = cv2.calcHist([image], [0], None, [256], [0, 256])\n",
    "    Hist_of_image_cumsum = Hist_of_image.cumsum()\n",
    "    fig, axs = plt.subplots(1, 3, figsize=(16,4))\n",
    "    axs[0].imshow(image, 'gray', vmin=0, vmax=256)\n",
    "    axs[0].axis('off')\n",
    "    axs[0].set_title('Obraz oryginalny')\n",
    "    axs[1].plot(Hist_of_image)\n",
    "    axs[1].grid()\n",
    "    axs[1].set_title('Histogram')\n",
    "    axs[2].plot(Hist_of_image_cumsum)\n",
    "    axs[2].grid()\n",
    "    axs[2].set_title('Histogram znormalizowany')\n",
    "\n",
    "H_4 = cv2.normalize(ChistNorm,None, 0, 255, cv2.NORM_MINMAX)\n",
    "H_2_lut = cv2.LUT(I_1, H_4)\n",
    "\n",
    "hist_alig(H_2_lut)"
   ]
  },
  {
   "cell_type": "code",
   "execution_count": null,
   "metadata": {},
   "outputs": [],
   "source": [
    "equalized = cv2.equalizeHist(I_1)\n",
    "hist_alig(equalized)"
   ]
  },
  {
   "cell_type": "code",
   "execution_count": null,
   "metadata": {},
   "outputs": [],
   "source": [
    "CLAHE = cv2.createCLAHE(40,(5,5))\n",
    "CLAHE = CLAHE.apply(I_1)\n",
    "hist_alig(CLAHE)"
   ]
  },
  {
   "cell_type": "code",
   "execution_count": null,
   "metadata": {},
   "outputs": [],
   "source": [
    "hist_2 = cv2.imread(\"hist2.bmp\", cv2.IMREAD_GRAYSCALE)\n",
    "hist_3 = cv2.imread(\"hist3.bmp\", cv2.IMREAD_GRAYSCALE)\n",
    "hist_4 = cv2.imread(\"hist4.bmp\", cv2.IMREAD_GRAYSCALE)\n",
    "\n",
    "def temp_func(img, par_1 = 10, par_2=(8,8)):\n",
    "    normalize = cv2.normalize(img, None, 0, 255, cv2.NORM_MINMAX)\n",
    "    hist_alig(normalize)\n",
    "    equalize = cv2.equalizeHist(img)\n",
    "    hist_alig(equalize)\n",
    "    clahize = cv2.createCLAHE(par_1, par_2)\n",
    "    clahize = clahize.apply(img)\n",
    "    hist_alig(clahize)"
   ]
  },
  {
   "cell_type": "code",
   "execution_count": null,
   "metadata": {},
   "outputs": [],
   "source": [
    "print('Na wykresach odpowiednio:\\n 1 - Rozciąganie \\n 2 - Wyrównywanie \\n 3 - Adaptacyjne wyrównanie')\n",
    "temp_func(hist_2)\n",
    "temp_func(hist_3)\n",
    "temp_func(hist_4)"
   ]
  },
  {
   "cell_type": "markdown",
   "metadata": {
    "collapsed": false,
    "pycharm": {
     "name": "#%% md\n"
    }
   },
   "source": [
    "## Histogram dla obrazów kolorowych i jego wyrównywanie\n",
    "\n",
    "1. Wczytaj obraz *lenaRGB.bmp*.\n",
    "2. Wykonaj konwersję przestrzeni barw z BGR do RGB.\n",
    "3. Wyświetl wczytany obraz oraz histogram dla każdej składowej przestrzeni barw.\n",
    "W tym celu można użyć drugiego argumentu wykorzystywanej funkcji (numer kanału).\n",
    "4. Wykonaj wyrównywanie dla każdej składowej obrazu.\n",
    "Połącz otrzymane składowe w nowy obraz i wyświetl go.\n",
    "Jaka jest zasadnicza wada takiego podejścia?\n",
    "5. Przekształć obraz wejściowy do przestrzeni HSV (flaga `cv2.COLOR_BGR2HSV`).\n",
    "Wyświetl histogramy poszczególnych składowych.\n",
    "Manipulacji dokonujemy na składowej odpowiadającej za jasność, czyli V.\n",
    "Wykonaj wyrównywanie histogramu dla tej składowej.\n",
    "Dokonaj podmiany składowej V i wyświetl rezultat operacji.\n",
    "Uprzednio przeprowadź konwersję HSV->RGB (flaga `cv2.COLOR_HSV2RGB`).\n",
    "6. Wykonaj te same operacje dla obrazu *jezioro.jpg*."
   ]
  },
  {
   "cell_type": "code",
   "execution_count": null,
   "metadata": {
    "collapsed": false,
    "pycharm": {
     "name": "#%% Zadanie 4 - histogram\n"
    }
   },
   "outputs": [],
   "source": [
    "if not os.path.exists(\"lenaRGB.bmp\") :\n",
    "    !wget https://raw.githubusercontent.com/vision-agh/poc_sw/master/03_Histogram/lenaRGB.bmp --no-check-certificate\n",
    "\n",
    "if not os.path.exists(\"jezioro.jpg\") :\n",
    "    !wget https://raw.githubusercontent.com/vision-agh/poc_sw/master/03_Histogram/jezioro.jpg --no-check-certificate"
   ]
  },
  {
   "cell_type": "code",
   "execution_count": null,
   "metadata": {
    "collapsed": false,
    "pycharm": {
     "name": "#%% Zadanie 4 - wyrównanie\n"
    }
   },
   "outputs": [],
   "source": [
    "lena = cv2.imread('lenaRGB.bmp')\n",
    "lena_col = cv2.cvtColor(lena, cv2.COLOR_BGR2RGB)\n",
    "lena_histogram = cv2.calcHist([lena_col], [0], None, [256], [0, 256])\n",
    "lena_histogram_2 = cv2.calcHist([lena_col], [1], None, [256], [0, 256])\n",
    "lena_histogram_3 = cv2.calcHist([lena_col], [2], None, [256], [0, 256])\n",
    "\n",
    "figLena, axsLena = plt.subplots(1, 4)\n",
    "figLena.set_size_inches(20, 10)\n",
    "axsLena[0].imshow(lena_col, 'gray', vmin=0, vmax=256)\n",
    "axsLena[0].axis('off')\n",
    "axsLena[1].plot(lena_histogram)\n",
    "axsLena[2].plot(lena_histogram_2)\n",
    "axsLena[3].plot(lena_histogram_3)\n",
    "axsLena[1].grid()\n",
    "axsLena[0].set_title('obraz')\n",
    "axsLena[1].set_title('kolor na kanale 1')\n",
    "axsLena[2].set_title('kolor na kanale 2')\n",
    "axsLena[3].set_title('kolor na kanale 3')\n",
    "axsLena[2].grid()\n",
    "axsLena[3].grid()"
   ]
  },
  {
   "cell_type": "code",
   "execution_count": null,
   "metadata": {
    "collapsed": false,
    "pycharm": {
     "name": "#%% Zadanie 4 - HSV histogram\n"
    }
   },
   "outputs": [],
   "source": [
    "lena_col_1 = cv2.equalizeHist(lena_col[:,:,0])\n",
    "lena_col_2 = cv2.equalizeHist(lena_col[:,:,1])\n",
    "lena_col_3 = cv2.equalizeHist(lena_col[:,:,2])\n",
    "\n",
    "combined = np.zeros((512,512, 3)) \n",
    "combined[:,:,0]=lena_col_1\n",
    "combined[:,:,1]=lena_col_2\n",
    "combined[:,:,2]=lena_col_3\n",
    "\n",
    "combined = cv2.normalize(combined,None,0,255,cv2.NORM_MINMAX)\n",
    "combined = combined.astype('uint8')\n",
    "\n",
    "print('Obraz wyrównany dla każdej składowej obrazu:')\n",
    "plt.imshow(combined)\n",
    "plt.xticks([])\n",
    "plt.yticks([])\n",
    "plt.show()"
   ]
  },
  {
   "cell_type": "code",
   "execution_count": null,
   "metadata": {
    "collapsed": false,
    "pycharm": {
     "name": "#%% Zadanie 4 - HSV wyrównanie\n"
    }
   },
   "outputs": [],
   "source": [
    "lena_hsv = cv2.cvtColor(lena, cv2.COLOR_BGR2HSV)\n",
    "lena_histogram = cv2.calcHist([lena_hsv], [0], None, [256], [0, 256])\n",
    "lena_histogram_2 = cv2.calcHist([lena_hsv], [1], None, [256], [0, 256])\n",
    "lena_histogram_3 = cv2.calcHist([lena_hsv], [2], None, [256], [0, 256])\n",
    "\n",
    "figLena, axsLena = plt.subplots(1, 4)\n",
    "figLena.set_size_inches(20, 10)\n",
    "axsLena[0].imshow(lena_hsv, 'gray', vmin=0, vmax=256)\n",
    "axsLena[0].axis('off')\n",
    "axsLena[1].plot(lena_histogram)\n",
    "axsLena[2].plot(lena_histogram_2)\n",
    "axsLena[3].plot(lena_histogram_3)\n",
    "axsLena[1].grid()\n",
    "axsLena[0].set_title('obraz')\n",
    "axsLena[1].set_title('kolor na kanale 1')\n",
    "axsLena[2].set_title('kolor na kanale 2')\n",
    "axsLena[3].set_title('kolor na kanale 3')\n",
    "axsLena[2].grid()\n",
    "axsLena[3].grid()"
   ]
  },
  {
   "cell_type": "code",
   "execution_count": null,
   "metadata": {},
   "outputs": [],
   "source": [
    "lena_hsv_1 = cv2.equalizeHist(lena_hsv[:,:,0])\n",
    "lena_hsv_2 = cv2.equalizeHist(lena_hsv[:,:,1])\n",
    "lena_hsv_3 = cv2.equalizeHist(lena_hsv[:,:,2])\n",
    "\n",
    "combined = np.zeros((512,512, 3)) \n",
    "combined[:,:,0]=lena_hsv_1\n",
    "combined[:,:,1]=lena_hsv_2\n",
    "combined[:,:,2]=lena_hsv_3\n",
    "\n",
    "combined = cv2.normalize(combined,None,0,255,cv2.NORM_MINMAX)\n",
    "combined = combined.astype('uint8')\n",
    "\n",
    "lena_hsv_2 = cv2.cvtColor(combined, cv2.COLOR_HSV2RGB)\n",
    "\n",
    "print('Obraz wyrównany dla każdej składowej obrazu:')\n",
    "plt.imshow(lena_hsv_2)\n",
    "plt.xticks([])\n",
    "plt.yticks([])\n",
    "plt.show()\n",
    "\n",
    "lena_col_1 = cv2.equalizeHist(lena_col[:,:,0])\n",
    "lena_col_2 = cv2.equalizeHist(lena_col[:,:,1])\n",
    "lena_col_3 = cv2.equalizeHist(lena_col[:,:,2])\n",
    "\n",
    "combined = np.zeros((512,512, 3)) \n",
    "combined[:,:,0]=lena_col_1\n",
    "combined[:,:,1]=lena_col_2\n",
    "combined[:,:,2]=lena_col_3\n",
    "\n",
    "combined = cv2.normalize(combined,None,0,255,cv2.NORM_MINMAX)\n",
    "combined = combined.astype('uint8')\n",
    "\n",
    "print('Obraz wyrównany dla każdej składowej obrazu:')\n",
    "plt.imshow(combined)\n",
    "plt.xticks([])\n",
    "plt.yticks([])\n",
    "plt.show()"
   ]
  },
  {
   "cell_type": "markdown",
   "metadata": {},
   "source": [
    "Powtórzenie materiału dla obrazka 'jezioro', nazwy zmiennych zostały zachowane, gdyż wprowadzało to zbyt duże zamiszanie, a output jest taki sam:"
   ]
  },
  {
   "cell_type": "code",
   "execution_count": null,
   "metadata": {},
   "outputs": [],
   "source": [
    "lena = cv2.imread('jezioro.jpg')\n",
    "lena_col = cv2.cvtColor(lena, cv2.COLOR_BGR2RGB)\n",
    "lena_histogram = cv2.calcHist([lena_col], [0], None, [256], [0, 256])\n",
    "lena_histogram_2 = cv2.calcHist([lena_col], [1], None, [256], [0, 256])\n",
    "lena_histogram_3 = cv2.calcHist([lena_col], [2], None, [256], [0, 256])\n",
    "\n",
    "figLena, axsLena = plt.subplots(1, 4)\n",
    "figLena.set_size_inches(20, 10)\n",
    "axsLena[0].imshow(lena_col, 'gray', vmin=0, vmax=256)\n",
    "axsLena[0].axis('off')\n",
    "axsLena[1].plot(lena_histogram)\n",
    "axsLena[2].plot(lena_histogram_2)\n",
    "axsLena[3].plot(lena_histogram_3)\n",
    "axsLena[1].grid()\n",
    "axsLena[0].set_title('obraz')\n",
    "axsLena[1].set_title('kolor na kanale 1')\n",
    "axsLena[2].set_title('kolor na kanale 2')\n",
    "axsLena[3].set_title('kolor na kanale 3')\n",
    "axsLena[2].grid()\n",
    "axsLena[3].grid()\n",
    "\n",
    "lena_hsv = cv2.cvtColor(lena, cv2.COLOR_BGR2HSV)\n",
    "lena_histogram = cv2.calcHist([lena_hsv], [0], None, [256], [0, 256])\n",
    "lena_histogram_2 = cv2.calcHist([lena_hsv], [1], None, [256], [0, 256])\n",
    "lena_histogram_3 = cv2.calcHist([lena_hsv], [2], None, [256], [0, 256])\n",
    "\n",
    "figLena, axsLena = plt.subplots(1, 4)\n",
    "figLena.set_size_inches(20, 10)\n",
    "axsLena[0].imshow(lena_hsv, 'gray', vmin=0, vmax=256)\n",
    "axsLena[0].axis('off')\n",
    "axsLena[1].plot(lena_histogram)\n",
    "axsLena[2].plot(lena_histogram_2)\n",
    "axsLena[3].plot(lena_histogram_3)\n",
    "axsLena[1].grid()\n",
    "axsLena[0].set_title('obraz')\n",
    "axsLena[1].set_title('kolor na kanale 1')\n",
    "axsLena[2].set_title('kolor na kanale 2')\n",
    "axsLena[3].set_title('kolor na kanale 3')\n",
    "axsLena[2].grid()\n",
    "axsLena[3].grid()\n",
    "\n",
    "lena_hsv_1 = cv2.equalizeHist(lena_hsv[:,:,0])\n",
    "lena_hsv_2 = cv2.equalizeHist(lena_hsv[:,:,1])\n",
    "lena_hsv_3 = cv2.equalizeHist(lena_hsv[:,:,2])\n",
    "\n",
    "combined = np.zeros((482,640, 3)) \n",
    "combined[:,:,0]=lena_hsv_1\n",
    "combined[:,:,1]=lena_hsv_2\n",
    "combined[:,:,2]=lena_hsv_3\n",
    "\n",
    "combined = cv2.normalize(combined,None,0,255,cv2.NORM_MINMAX)\n",
    "combined = combined.astype('uint8')\n"
   ]
  },
  {
   "cell_type": "code",
   "execution_count": null,
   "metadata": {},
   "outputs": [],
   "source": [
    "\n",
    "lena_hsv_2 = cv2.cvtColor(combined, cv2.COLOR_HSV2RGB)\n",
    "\n",
    "print('Obraz wyrównany dla każdej składowej obrazu:')\n",
    "plt.imshow(lena_hsv_2)\n",
    "plt.xticks([])\n",
    "plt.yticks([])\n",
    "plt.show()\n",
    "\n",
    "lena_col_1 = cv2.equalizeHist(lena_col[:,:,0])\n",
    "lena_col_2 = cv2.equalizeHist(lena_col[:,:,1])\n",
    "lena_col_3 = cv2.equalizeHist(lena_col[:,:,2])\n",
    "\n",
    "combined = np.zeros((482,640, 3)) \n",
    "combined[:,:,0]=lena_col_1\n",
    "combined[:,:,1]=lena_col_2\n",
    "combined[:,:,2]=lena_col_3\n",
    "\n",
    "combined = cv2.normalize(combined,None,0,255,cv2.NORM_MINMAX)\n",
    "combined = combined.astype('uint8')\n",
    "\n",
    "print('Obraz wyrównany dla każdej składowej obrazu:')\n",
    "plt.imshow(combined)\n",
    "plt.xticks([])\n",
    "plt.yticks([])\n",
    "plt.show()"
   ]
  }
 ],
 "metadata": {
  "kernelspec": {
   "display_name": "Python 3",
   "language": "python",
   "name": "python3"
  },
  "language_info": {
   "codemirror_mode": {
    "name": "ipython",
    "version": 3
   },
   "file_extension": ".py",
   "mimetype": "text/x-python",
   "name": "python",
   "nbconvert_exporter": "python",
   "pygments_lexer": "ipython3",
   "version": "3.9.10"
  }
 },
 "nbformat": 4,
 "nbformat_minor": 4
}
